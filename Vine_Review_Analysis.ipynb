{
  "nbformat": 4,
  "nbformat_minor": 0,
  "metadata": {
    "colab": {
      "name": "Vine_Review_Analysis.ipynb",
      "provenance": []
    },
    "kernelspec": {
      "display_name": "PythonData",
      "language": "python",
      "name": "pythondata"
    },
    "language_info": {
      "codemirror_mode": {
        "name": "ipython",
        "version": 3
      },
      "file_extension": ".py",
      "mimetype": "text/x-python",
      "name": "python",
      "nbconvert_exporter": "python",
      "pygments_lexer": "ipython3",
      "version": "3.7.7"
    },
    "nteract": {
      "version": "0.12.3"
    }
  },
  "cells": [
    {
      "cell_type": "code",
      "metadata": {
        "id": "V58rxea0HqSa",
        "colab": {
          "base_uri": "https://localhost:8080/"
        },
        "outputId": "3ad29f30-1cda-4974-dec0-19a86f1d7ad1"
      },
      "source": [
        "import os\n",
        "# Find the latest version of spark 3.0  from http://www-us.apache.org/dist/spark/ and enter as the spark version\n",
        "# For example:\n",
        "# spark_version = 'spark-3.1.2'\n",
        "spark_version = 'spark-3.1.2'\n",
        "os.environ['SPARK_VERSION']=spark_version\n",
        "\n",
        "# Install Spark and Java\n",
        "!apt-get update\n",
        "!apt-get install openjdk-11-jdk-headless -qq > /dev/null\n",
        "!wget -q http://www-us.apache.org/dist/spark/$SPARK_VERSION/$SPARK_VERSION-bin-hadoop2.7.tgz\n",
        "# Download the Postgres driver that will allow Spark to interact with Postgres.\n",
        "!wget https://jdbc.postgresql.org/download/postgresql-42.2.16.jar\n",
        "!tar xf $SPARK_VERSION-bin-hadoop2.7.tgz\n",
        "!pip install -q findspark\n",
        "\n",
        "# Set Environment Variables\n",
        "import os\n",
        "os.environ[\"JAVA_HOME\"] = \"/usr/lib/jvm/java-11-openjdk-amd64\"\n",
        "os.environ[\"SPARK_HOME\"] = f\"/content/{spark_version}-bin-hadoop2.7\"\n",
        "\n",
        "# Start a SparkSession\n",
        "import findspark\n",
        "findspark.init()"
      ],
      "execution_count": 1,
      "outputs": [
        {
          "output_type": "stream",
          "text": [
            "\r0% [Working]\r            \rGet:1 http://security.ubuntu.com/ubuntu bionic-security InRelease [88.7 kB]\n",
            "\r0% [Connecting to archive.ubuntu.com (91.189.88.152)] [1 InRelease 14.2 kB/88.7\r                                                                               \rIgn:2 https://developer.download.nvidia.com/compute/cuda/repos/ubuntu1804/x86_64  InRelease\n",
            "\r0% [Waiting for headers] [1 InRelease 69.2 kB/88.7 kB 78%] [Waiting for headers\r                                                                               \rHit:3 https://cloud.r-project.org/bin/linux/ubuntu bionic-cran40/ InRelease\n",
            "\r0% [Waiting for headers] [1 InRelease 88.7 kB/88.7 kB 100%] [Waiting for header\r                                                                               \r0% [Waiting for headers] [Waiting for headers] [Waiting for headers]\r0% [3 InRelease gpgv 3,626 B] [Waiting for headers] [Waiting for headers] [Wait\r                                                                               \rHit:4 http://ppa.launchpad.net/c2d4u.team/c2d4u4.0+/ubuntu bionic InRelease\n",
            "Hit:5 http://archive.ubuntu.com/ubuntu bionic InRelease\n",
            "Get:6 http://archive.ubuntu.com/ubuntu bionic-updates InRelease [88.7 kB]\n",
            "Ign:7 https://developer.download.nvidia.com/compute/machine-learning/repos/ubuntu1804/x86_64  InRelease\n",
            "Get:8 https://developer.download.nvidia.com/compute/cuda/repos/ubuntu1804/x86_64  Release [697 B]\n",
            "Hit:9 https://developer.download.nvidia.com/compute/machine-learning/repos/ubuntu1804/x86_64  Release\n",
            "Hit:10 http://ppa.launchpad.net/cran/libgit2/ubuntu bionic InRelease\n",
            "Get:11 https://developer.download.nvidia.com/compute/cuda/repos/ubuntu1804/x86_64  Release.gpg [836 B]\n",
            "Get:12 http://ppa.launchpad.net/deadsnakes/ppa/ubuntu bionic InRelease [15.9 kB]\n",
            "Get:13 http://archive.ubuntu.com/ubuntu bionic-backports InRelease [74.6 kB]\n",
            "Hit:14 http://ppa.launchpad.net/graphics-drivers/ppa/ubuntu bionic InRelease\n",
            "Get:15 http://security.ubuntu.com/ubuntu bionic-security/universe amd64 Packages [1,415 kB]\n",
            "Get:16 http://security.ubuntu.com/ubuntu bionic-security/main amd64 Packages [2,185 kB]\n",
            "Ign:18 https://developer.download.nvidia.com/compute/cuda/repos/ubuntu1804/x86_64  Packages\n",
            "Get:18 https://developer.download.nvidia.com/compute/cuda/repos/ubuntu1804/x86_64  Packages [599 kB]\n",
            "Get:19 http://archive.ubuntu.com/ubuntu bionic-updates/main amd64 Packages [2,619 kB]\n",
            "Get:20 http://ppa.launchpad.net/deadsnakes/ppa/ubuntu bionic/main amd64 Packages [40.9 kB]\n",
            "Get:21 http://archive.ubuntu.com/ubuntu bionic-updates/universe amd64 Packages [2,185 kB]\n",
            "Fetched 9,312 kB in 3s (2,760 kB/s)\n",
            "Reading package lists... Done\n",
            "--2021-06-20 18:14:08--  https://jdbc.postgresql.org/download/postgresql-42.2.16.jar\n",
            "Resolving jdbc.postgresql.org (jdbc.postgresql.org)... 72.32.157.228, 2001:4800:3e1:1::228\n",
            "Connecting to jdbc.postgresql.org (jdbc.postgresql.org)|72.32.157.228|:443... connected.\n",
            "HTTP request sent, awaiting response... 200 OK\n",
            "Length: 1002883 (979K) [application/java-archive]\n",
            "Saving to: ‘postgresql-42.2.16.jar’\n",
            "\n",
            "postgresql-42.2.16. 100%[===================>] 979.38K  --.-KB/s    in 0.1s    \n",
            "\n",
            "2021-06-20 18:14:09 (6.53 MB/s) - ‘postgresql-42.2.16.jar’ saved [1002883/1002883]\n",
            "\n"
          ],
          "name": "stdout"
        }
      ]
    },
    {
      "cell_type": "code",
      "metadata": {
        "id": "MMqDAjVS0KN9"
      },
      "source": [
        "# Start Spark session\n",
        "from pyspark.sql import SparkSession\n",
        "spark = SparkSession.builder.appName(\"Vine_Review_Analysis\").getOrCreate()"
      ],
      "execution_count": 70,
      "outputs": []
    },
    {
      "cell_type": "markdown",
      "metadata": {
        "id": "cyBsySGuY-9V"
      },
      "source": [
        "### Load Amazon Data into Spark DataFrame"
      ]
    },
    {
      "cell_type": "code",
      "metadata": {
        "id": "CtCmBhQJY-9Z",
        "colab": {
          "base_uri": "https://localhost:8080/"
        },
        "outputId": "ef7f03d2-8751-413a-f9b7-20741aac545a"
      },
      "source": [
        "# Read in data from S3 Buckets\n",
        "from pyspark import SparkFiles\n",
        "url = \"https://zkt2018-challenge.s3.us-east-2.amazonaws.com/vine_table.csv\"\n",
        "spark.sparkContext.addFile(url)\n",
        "df = spark.read.option('header', 'true').csv(SparkFiles.get(\"vine_table.csv\"), inferSchema=True, sep=',')\n",
        "\n",
        "# Show DataFrame\n",
        "df.show()"
      ],
      "execution_count": 71,
      "outputs": [
        {
          "output_type": "stream",
          "text": [
            "+--------------+-----------+-------------+-----------+----+-----------------+\n",
            "|     review_id|star_rating|helpful_votes|total_votes|vine|verified_purchase|\n",
            "+--------------+-----------+-------------+-----------+----+-----------------+\n",
            "|R1NQOI19PNB1KJ|          3|            0|          0|   N|                Y|\n",
            "|R1BEN5Q26EIK98|          1|            2|          4|   N|                Y|\n",
            "|R3K6QS6S5X3GEA|          3|            0|          1|   N|                Y|\n",
            "|R24M3PR92MMQN0|          1|            2|          2|   N|                N|\n",
            "|R3M0UCU8IYLJIK|          5|            0|          3|   N|                Y|\n",
            "|R30LT16S75T7IU|          2|            2|          5|   N|                Y|\n",
            "|R2YRN4ZU4TLJ85|          3|            3|          3|   N|                Y|\n",
            "|R2GFO14E9LXRUN|          4|            0|          0|   N|                Y|\n",
            "|R105U1B8VAALBE|          1|            4|          4|   N|                Y|\n",
            "|R360RFQU82ST0M|          1|           14|         20|   N|                N|\n",
            "|R2JCFB74WXKTI7|          5|            3|          6|   N|                Y|\n",
            "|R39HYW9EIYT7WN|          3|            0|          1|   N|                Y|\n",
            "|R30LYUJI4KOCG3|          5|            1|          3|   N|                Y|\n",
            "|R3JDZCAG8G2QPG|          5|            3|          5|   N|                N|\n",
            "| ROYMN6CSEAL6J|          5|            0|          1|   N|                Y|\n",
            "|R1LGUS89632O84|          5|            0|          0|   N|                Y|\n",
            "|R37239AU42EJVJ|          3|           20|         20|   N|                N|\n",
            "|R3BBGL07UY7525|          3|            3|          3|   N|                N|\n",
            "|R3O2DZULAXUHBQ|          1|            3|          4|   N|                Y|\n",
            "|R3300QDFC7D156|          5|            1|          2|   N|                N|\n",
            "+--------------+-----------+-------------+-----------+----+-----------------+\n",
            "only showing top 20 rows\n",
            "\n"
          ],
          "name": "stdout"
        }
      ]
    },
    {
      "cell_type": "markdown",
      "metadata": {
        "id": "2yUSe55VY-9t"
      },
      "source": [
        "### Create DataFrames to match tables"
      ]
    },
    {
      "cell_type": "code",
      "metadata": {
        "id": "C8REmY1aY-9u"
      },
      "source": [
        "from pyspark.sql.functions import to_date"
      ],
      "execution_count": 72,
      "outputs": []
    },
    {
      "cell_type": "code",
      "metadata": {
        "id": "lzMmkdKmY--D",
        "colab": {
          "base_uri": "https://localhost:8080/"
        },
        "outputId": "6913fffc-75a6-43a5-9195-3e3ce8c7c521"
      },
      "source": [
        "# Create the vine_table DataFrame\n",
        "vine_df = df.select(['review_id','star_rating','helpful_votes','total_votes','vine','verified_purchase'])\n",
        "vine_df.show()"
      ],
      "execution_count": 73,
      "outputs": [
        {
          "output_type": "stream",
          "text": [
            "+--------------+-----------+-------------+-----------+----+-----------------+\n",
            "|     review_id|star_rating|helpful_votes|total_votes|vine|verified_purchase|\n",
            "+--------------+-----------+-------------+-----------+----+-----------------+\n",
            "|R1NQOI19PNB1KJ|          3|            0|          0|   N|                Y|\n",
            "|R1BEN5Q26EIK98|          1|            2|          4|   N|                Y|\n",
            "|R3K6QS6S5X3GEA|          3|            0|          1|   N|                Y|\n",
            "|R24M3PR92MMQN0|          1|            2|          2|   N|                N|\n",
            "|R3M0UCU8IYLJIK|          5|            0|          3|   N|                Y|\n",
            "|R30LT16S75T7IU|          2|            2|          5|   N|                Y|\n",
            "|R2YRN4ZU4TLJ85|          3|            3|          3|   N|                Y|\n",
            "|R2GFO14E9LXRUN|          4|            0|          0|   N|                Y|\n",
            "|R105U1B8VAALBE|          1|            4|          4|   N|                Y|\n",
            "|R360RFQU82ST0M|          1|           14|         20|   N|                N|\n",
            "|R2JCFB74WXKTI7|          5|            3|          6|   N|                Y|\n",
            "|R39HYW9EIYT7WN|          3|            0|          1|   N|                Y|\n",
            "|R30LYUJI4KOCG3|          5|            1|          3|   N|                Y|\n",
            "|R3JDZCAG8G2QPG|          5|            3|          5|   N|                N|\n",
            "| ROYMN6CSEAL6J|          5|            0|          1|   N|                Y|\n",
            "|R1LGUS89632O84|          5|            0|          0|   N|                Y|\n",
            "|R37239AU42EJVJ|          3|           20|         20|   N|                N|\n",
            "|R3BBGL07UY7525|          3|            3|          3|   N|                N|\n",
            "|R3O2DZULAXUHBQ|          1|            3|          4|   N|                Y|\n",
            "|R3300QDFC7D156|          5|            1|          2|   N|                N|\n",
            "+--------------+-----------+-------------+-----------+----+-----------------+\n",
            "only showing top 20 rows\n",
            "\n"
          ],
          "name": "stdout"
        }
      ]
    },
    {
      "cell_type": "code",
      "metadata": {
        "colab": {
          "base_uri": "https://localhost:8080/"
        },
        "id": "jec73DejpJtA",
        "outputId": "8b1dfdf7-ddeb-4426-8fdf-ab01c17010df"
      },
      "source": [
        "# Load in a sql function to use columns\n",
        "from pyspark.sql.functions import col\n",
        "\n",
        "# Create a new DataFrame or table to retrieve all the rows where the total_votes count is equal to or greater than 20\n",
        "filtered_votes_df = vine_df.filter(col('total_votes') >= 20)\n",
        "filtered_votes_df.show()"
      ],
      "execution_count": 74,
      "outputs": [
        {
          "output_type": "stream",
          "text": [
            "+--------------+-----------+-------------+-----------+----+-----------------+\n",
            "|     review_id|star_rating|helpful_votes|total_votes|vine|verified_purchase|\n",
            "+--------------+-----------+-------------+-----------+----+-----------------+\n",
            "|R360RFQU82ST0M|          1|           14|         20|   N|                N|\n",
            "|R37239AU42EJVJ|          3|           20|         20|   N|                N|\n",
            "|R3W1AV85URGDJV|          1|           12|         20|   N|                Y|\n",
            "|R1F98PQXG08UMW|          1|           13|         23|   N|                Y|\n",
            "|R3R5BGKR70CYOP|          1|           51|         51|   N|                Y|\n",
            "| RFQQZOKX9JYMZ|          5|           23|         25|   N|                N|\n",
            "|R2U8HMTZAIC6O7|          1|           16|         22|   N|                Y|\n",
            "|R1NSWH1JFISETA|          1|           16|         20|   N|                Y|\n",
            "|R2WBO1I3UM4DWW|          1|           48|         53|   N|                N|\n",
            "|R3T79742JOKTGH|          1|            3|         22|   N|                N|\n",
            "|R32PF84PMNRVJI|          5|           91|         98|   N|                N|\n",
            "|R2IHUGVS7EG5XB|          1|           29|         30|   N|                N|\n",
            "|R15YAP2S0AOL7P|          5|           27|         28|   N|                N|\n",
            "|R1RWBE6MXEZTU6|          5|           23|         24|   N|                Y|\n",
            "| RUO3TQWSNLUY8|          5|           22|         23|   N|                N|\n",
            "|R3S5PL8Z2GGL19|          1|           55|         66|   N|                N|\n",
            "|R3768FYE3HVBEZ|          1|           34|         35|   N|                N|\n",
            "|R3HS7TCLVRQ0E1|          3|            5|         23|   N|                N|\n",
            "|R2Z5R1YFMDDG2K|          5|           32|         36|   N|                Y|\n",
            "|R328VF7SW91MC9|          4|           37|         38|   N|                N|\n",
            "+--------------+-----------+-------------+-----------+----+-----------------+\n",
            "only showing top 20 rows\n",
            "\n"
          ],
          "name": "stdout"
        }
      ]
    },
    {
      "cell_type": "code",
      "metadata": {
        "colab": {
          "base_uri": "https://localhost:8080/"
        },
        "id": "RzuH3hjOvLnb",
        "outputId": "05a69c85-5742-4f7b-b582-81a556fb106a"
      },
      "source": [
        "# Filter the dataframe to get helpful votes\n",
        "hf_votes_df = filtered_votes_df.filter((filtered_votes_df.helpful_votes/filtered_votes_df.total_votes)>= 0.5)\n",
        "hf_votes_df.show()"
      ],
      "execution_count": 75,
      "outputs": [
        {
          "output_type": "stream",
          "text": [
            "+--------------+-----------+-------------+-----------+----+-----------------+\n",
            "|     review_id|star_rating|helpful_votes|total_votes|vine|verified_purchase|\n",
            "+--------------+-----------+-------------+-----------+----+-----------------+\n",
            "|R360RFQU82ST0M|          1|           14|         20|   N|                N|\n",
            "|R37239AU42EJVJ|          3|           20|         20|   N|                N|\n",
            "|R3W1AV85URGDJV|          1|           12|         20|   N|                Y|\n",
            "|R1F98PQXG08UMW|          1|           13|         23|   N|                Y|\n",
            "|R3R5BGKR70CYOP|          1|           51|         51|   N|                Y|\n",
            "| RFQQZOKX9JYMZ|          5|           23|         25|   N|                N|\n",
            "|R2U8HMTZAIC6O7|          1|           16|         22|   N|                Y|\n",
            "|R1NSWH1JFISETA|          1|           16|         20|   N|                Y|\n",
            "|R2WBO1I3UM4DWW|          1|           48|         53|   N|                N|\n",
            "|R32PF84PMNRVJI|          5|           91|         98|   N|                N|\n",
            "|R2IHUGVS7EG5XB|          1|           29|         30|   N|                N|\n",
            "|R15YAP2S0AOL7P|          5|           27|         28|   N|                N|\n",
            "|R1RWBE6MXEZTU6|          5|           23|         24|   N|                Y|\n",
            "| RUO3TQWSNLUY8|          5|           22|         23|   N|                N|\n",
            "|R3S5PL8Z2GGL19|          1|           55|         66|   N|                N|\n",
            "|R3768FYE3HVBEZ|          1|           34|         35|   N|                N|\n",
            "|R2Z5R1YFMDDG2K|          5|           32|         36|   N|                Y|\n",
            "|R328VF7SW91MC9|          4|           37|         38|   N|                N|\n",
            "|R3UW7LV1DKDYUH|          5|           58|         61|   N|                N|\n",
            "|R2LQBZW81HLU2W|          3|           21|         30|   N|                N|\n",
            "+--------------+-----------+-------------+-----------+----+-----------------+\n",
            "only showing top 20 rows\n",
            "\n"
          ],
          "name": "stdout"
        }
      ]
    },
    {
      "cell_type": "code",
      "metadata": {
        "colab": {
          "base_uri": "https://localhost:8080/"
        },
        "id": "Mou2NpLRpyO-",
        "outputId": "ea2617aa-2ef4-493f-b058-3ddc23d5affc"
      },
      "source": [
        "# Filter the dataframe to get the Vine program reviews\n",
        "vine_votes_df = hf_votes_df.filter(col('vine')=='Y')\n",
        "vine_votes_df.show()"
      ],
      "execution_count": 76,
      "outputs": [
        {
          "output_type": "stream",
          "text": [
            "+--------------+-----------+-------------+-----------+----+-----------------+\n",
            "|     review_id|star_rating|helpful_votes|total_votes|vine|verified_purchase|\n",
            "+--------------+-----------+-------------+-----------+----+-----------------+\n",
            "|R3SL0Q3AVX4J3Y|          5|           34|         35|   Y|                N|\n",
            "|R1ANZ8I6C0DT0A|          4|           24|         25|   Y|                N|\n",
            "|R39794RGHXLMV8|          5|           40|         46|   Y|                N|\n",
            "|R2LVP49XP5MPED|          4|           34|         36|   Y|                N|\n",
            "| RQTPBMNOJGVNO|          3|           27|         29|   Y|                N|\n",
            "|R1KN5DA53079V5|          5|           32|         35|   Y|                N|\n",
            "|R3DL2LMDGKYDPT|          4|           22|         25|   Y|                N|\n",
            "| R22GXQ8OXTXTW|          5|           50|         53|   Y|                N|\n",
            "|R14M63V32IEHDG|          4|           61|         63|   Y|                N|\n",
            "| RF0DXDE5UHH55|          5|          209|        223|   Y|                N|\n",
            "|R27BZG91N8C2K4|          5|           95|        107|   Y|                N|\n",
            "| RWQZCIUS2Z8IS|          5|           19|         20|   Y|                N|\n",
            "|R1RDKCA8PJD84Z|          2|          166|        178|   Y|                N|\n",
            "|R3CNVL3QZ6QHCD|          4|           27|         28|   Y|                N|\n",
            "|R1LP86XHXKHB6T|          4|           39|         40|   Y|                N|\n",
            "|R39BJFN45DBI89|          5|           71|         77|   Y|                N|\n",
            "|R3T36AU1OVK6WK|          1|           28|         28|   Y|                N|\n",
            "| RZ7HGPGGDO8DY|          3|           22|         22|   Y|                N|\n",
            "|R233PVDQEXU727|          5|           80|         87|   Y|                N|\n",
            "|R2CIM4HBTBBOJT|          3|           83|         87|   Y|                N|\n",
            "+--------------+-----------+-------------+-----------+----+-----------------+\n",
            "only showing top 20 rows\n",
            "\n"
          ],
          "name": "stdout"
        }
      ]
    },
    {
      "cell_type": "code",
      "metadata": {
        "colab": {
          "base_uri": "https://localhost:8080/"
        },
        "id": "xGA-IsQ1zlCM",
        "outputId": "1fa5e5e9-209b-485d-9d66-2451216b92c2"
      },
      "source": [
        "# Filter the dataframe to get the non-Vine program reviews\n",
        "nonvine_votes_df = hf_votes_df.filter(col('vine')=='N')\n",
        "nonvine_votes_df.show()"
      ],
      "execution_count": 77,
      "outputs": [
        {
          "output_type": "stream",
          "text": [
            "+--------------+-----------+-------------+-----------+----+-----------------+\n",
            "|     review_id|star_rating|helpful_votes|total_votes|vine|verified_purchase|\n",
            "+--------------+-----------+-------------+-----------+----+-----------------+\n",
            "|R360RFQU82ST0M|          1|           14|         20|   N|                N|\n",
            "|R37239AU42EJVJ|          3|           20|         20|   N|                N|\n",
            "|R3W1AV85URGDJV|          1|           12|         20|   N|                Y|\n",
            "|R1F98PQXG08UMW|          1|           13|         23|   N|                Y|\n",
            "|R3R5BGKR70CYOP|          1|           51|         51|   N|                Y|\n",
            "| RFQQZOKX9JYMZ|          5|           23|         25|   N|                N|\n",
            "|R2U8HMTZAIC6O7|          1|           16|         22|   N|                Y|\n",
            "|R1NSWH1JFISETA|          1|           16|         20|   N|                Y|\n",
            "|R2WBO1I3UM4DWW|          1|           48|         53|   N|                N|\n",
            "|R32PF84PMNRVJI|          5|           91|         98|   N|                N|\n",
            "|R2IHUGVS7EG5XB|          1|           29|         30|   N|                N|\n",
            "|R15YAP2S0AOL7P|          5|           27|         28|   N|                N|\n",
            "|R1RWBE6MXEZTU6|          5|           23|         24|   N|                Y|\n",
            "| RUO3TQWSNLUY8|          5|           22|         23|   N|                N|\n",
            "|R3S5PL8Z2GGL19|          1|           55|         66|   N|                N|\n",
            "|R3768FYE3HVBEZ|          1|           34|         35|   N|                N|\n",
            "|R2Z5R1YFMDDG2K|          5|           32|         36|   N|                Y|\n",
            "|R328VF7SW91MC9|          4|           37|         38|   N|                N|\n",
            "|R3UW7LV1DKDYUH|          5|           58|         61|   N|                N|\n",
            "|R2LQBZW81HLU2W|          3|           21|         30|   N|                N|\n",
            "+--------------+-----------+-------------+-----------+----+-----------------+\n",
            "only showing top 20 rows\n",
            "\n"
          ],
          "name": "stdout"
        }
      ]
    },
    {
      "cell_type": "code",
      "metadata": {
        "colab": {
          "base_uri": "https://localhost:8080/"
        },
        "id": "Ul_czc5Pzv8k",
        "outputId": "1c12351f-e518-4742-e1fe-d7c9a72df2d2"
      },
      "source": [
        "from pyspark.sql.functions import count\n",
        "# Determine total number of reviews, the number of 5-star reviews, and the percentage of 5-star reviews for the two types of review\n",
        "all_reviews = hf_votes_df.select(col('review_id')).count()\n",
        "all_reviews"
      ],
      "execution_count": 78,
      "outputs": [
        {
          "output_type": "execute_result",
          "data": {
            "text/plain": [
              "17762"
            ]
          },
          "metadata": {
            "tags": []
          },
          "execution_count": 78
        }
      ]
    },
    {
      "cell_type": "code",
      "metadata": {
        "colab": {
          "base_uri": "https://localhost:8080/"
        },
        "id": "Mb5mdQpy8rrg",
        "outputId": "62a8f6f5-a7fc-4c53-b021-275ae51d7fa0"
      },
      "source": [
        "five_star_count = hf_votes_df.filter(col('star_rating')==5).count()\n",
        "five_star_count\n"
      ],
      "execution_count": 79,
      "outputs": [
        {
          "output_type": "execute_result",
          "data": {
            "text/plain": [
              "5256"
            ]
          },
          "metadata": {
            "tags": []
          },
          "execution_count": 79
        }
      ]
    },
    {
      "cell_type": "code",
      "metadata": {
        "colab": {
          "base_uri": "https://localhost:8080/"
        },
        "id": "QEhNFmZr8rT6",
        "outputId": "8116b348-1148-4d54-8cb6-e9916757077a"
      },
      "source": [
        "five_star_vine = vine_votes_df.select(col('star_rating')==5).count()\n",
        "percentage_reviews_vine = (five_star_vine/count_reviews)*100\n",
        "percentage_reviews_vine\n"
      ],
      "execution_count": 80,
      "outputs": [
        {
          "output_type": "execute_result",
          "data": {
            "text/plain": [
              "1.3962391622565027"
            ]
          },
          "metadata": {
            "tags": []
          },
          "execution_count": 80
        }
      ]
    },
    {
      "cell_type": "code",
      "metadata": {
        "colab": {
          "base_uri": "https://localhost:8080/"
        },
        "id": "tvVL2jIn8rKF",
        "outputId": "7498f223-6578-499f-de2c-bacd7d603297"
      },
      "source": [
        "five_star_nonvine = nonvine_votes_df.select(col('star_rating')==5).count()\n",
        "percentage_reviews_nonvine = (five_star_nonvine/count_reviews)*100\n",
        "percentage_reviews_nonvine"
      ],
      "execution_count": 81,
      "outputs": [
        {
          "output_type": "execute_result",
          "data": {
            "text/plain": [
              "98.6037608377435"
            ]
          },
          "metadata": {
            "tags": []
          },
          "execution_count": 81
        }
      ]
    }
  ]
}